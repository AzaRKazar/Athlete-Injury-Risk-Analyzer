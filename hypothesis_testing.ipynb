{
 "cells": [
  {
   "cell_type": "code",
   "execution_count": 6,
   "metadata": {},
   "outputs": [],
   "source": [
    "from scipy.stats import f_oneway, kruskal\n"
   ]
  },
  {
   "cell_type": "code",
   "execution_count": 5,
   "metadata": {},
   "outputs": [],
   "source": [
    "import numpy as np  \n",
    "import pandas as pd"
   ]
  },
  {
   "cell_type": "code",
   "execution_count": 7,
   "metadata": {},
   "outputs": [],
   "source": [
    "symmetry_metrics=['ForceSymmetry', 'ImpulseSymmetry', 'MaxForceSymmetry', 'TorqueSymmetry']"
   ]
  },
  {
   "cell_type": "code",
   "execution_count": 11,
   "metadata": {},
   "outputs": [],
   "source": [
    "vald_data = pd.read_csv('data/vald_data_afterrisk.csv')"
   ]
  },
  {
   "cell_type": "code",
   "execution_count": 12,
   "metadata": {},
   "outputs": [
    {
     "name": "stderr",
     "output_type": "stream",
     "text": [
      "C:\\Users\\USER\\AppData\\Local\\Temp\\ipykernel_17280\\3079863582.py:14: SmallSampleWarning: One or more sample arguments is too small; all returned values will be NaN. See documentation for sample size requirements.\n",
      "  h_stat, p_value = kruskal(low_risk, medium_risk, high_risk)\n"
     ]
    },
    {
     "data": {
      "text/html": [
       "<div>\n",
       "<style scoped>\n",
       "    .dataframe tbody tr th:only-of-type {\n",
       "        vertical-align: middle;\n",
       "    }\n",
       "\n",
       "    .dataframe tbody tr th {\n",
       "        vertical-align: top;\n",
       "    }\n",
       "\n",
       "    .dataframe thead th {\n",
       "        text-align: right;\n",
       "    }\n",
       "</style>\n",
       "<table border=\"1\" class=\"dataframe\">\n",
       "  <thead>\n",
       "    <tr style=\"text-align: right;\">\n",
       "      <th></th>\n",
       "      <th>Test Type</th>\n",
       "      <th>P-Value</th>\n",
       "      <th>Significant</th>\n",
       "    </tr>\n",
       "  </thead>\n",
       "  <tbody>\n",
       "    <tr>\n",
       "      <th>ForceSymmetry</th>\n",
       "      <td>ANOVA</td>\n",
       "      <td>0.0</td>\n",
       "      <td>True</td>\n",
       "    </tr>\n",
       "    <tr>\n",
       "      <th>ImpulseSymmetry</th>\n",
       "      <td>Kruskal-Wallis</td>\n",
       "      <td>NaN</td>\n",
       "      <td>False</td>\n",
       "    </tr>\n",
       "    <tr>\n",
       "      <th>MaxForceSymmetry</th>\n",
       "      <td>ANOVA</td>\n",
       "      <td>0.0</td>\n",
       "      <td>True</td>\n",
       "    </tr>\n",
       "    <tr>\n",
       "      <th>TorqueSymmetry</th>\n",
       "      <td>ANOVA</td>\n",
       "      <td>0.0</td>\n",
       "      <td>True</td>\n",
       "    </tr>\n",
       "  </tbody>\n",
       "</table>\n",
       "</div>"
      ],
      "text/plain": [
       "                       Test Type P-Value Significant\n",
       "ForceSymmetry              ANOVA     0.0        True\n",
       "ImpulseSymmetry   Kruskal-Wallis     NaN       False\n",
       "MaxForceSymmetry           ANOVA     0.0        True\n",
       "TorqueSymmetry             ANOVA     0.0        True"
      ]
     },
     "execution_count": 12,
     "metadata": {},
     "output_type": "execute_result"
    }
   ],
   "source": [
    "\n",
    "# Prepare data for hypothesis testing: group symmetry metrics by risk category\n",
    "hypothesis_results = {}\n",
    "for metric in symmetry_metrics:\n",
    "    # Group data by risk category\n",
    "    low_risk = vald_data[vald_data[f'{metric}Risk'] == 'Low Risk'][metric]\n",
    "    medium_risk = vald_data[vald_data[f'{metric}Risk'] == 'Medium Risk'][metric]\n",
    "    high_risk = vald_data[vald_data[f'{metric}Risk'] == 'High Risk'][metric]\n",
    "\n",
    "    # Perform ANOVA if data is sufficient, otherwise fallback to Kruskal-Wallis\n",
    "    if len(low_risk) > 2 and len(medium_risk) > 2 and len(high_risk) > 2:\n",
    "        f_stat, p_value = f_oneway(low_risk, medium_risk, high_risk)\n",
    "        test_type = \"ANOVA\"\n",
    "    else:\n",
    "        h_stat, p_value = kruskal(low_risk, medium_risk, high_risk)\n",
    "        test_type = \"Kruskal-Wallis\"\n",
    "\n",
    "    # Store results\n",
    "    hypothesis_results[metric] = {\n",
    "        'Test Type': test_type,\n",
    "        'P-Value': p_value,\n",
    "        'Significant': p_value < 0.05\n",
    "    }\n",
    "\n",
    "# Convert results into a DataFrame for better readability\n",
    "hypothesis_results_df = pd.DataFrame(hypothesis_results).transpose()\n",
    "\n",
    "\n",
    "hypothesis_results_df\n"
   ]
  },
  {
   "cell_type": "markdown",
   "metadata": {},
   "source": [
    "Hypothesis Testing Results\n",
    "ForceSymmetry:\n",
    "\n",
    "Test Type: ANOVA\n",
    "P-Value: 0.0 (highly significant)\n",
    "Significance: Yes\n",
    "Conclusion:\n",
    "There is a significant difference in ForceSymmetry across Low Risk, Medium Risk, and High Risk categories.\n",
    "This indicates that the categorization logic for ForceSymmetry effectively separates the groups.\n",
    "ImpulseSymmetry:\n",
    "\n",
    "Test Type: Kruskal-Wallis\n",
    "P-Value: Not computable (all athletes fall into Low Risk)\n",
    "Significance: No\n",
    "Conclusion:\n",
    "The thresholds or buffer logic for ImpulseSymmetry are likely too lenient, categorizing all athletes as Low Risk.\n",
    "This metric does not currently contribute meaningfully to risk differentiation and requires refinement."
   ]
  }
 ],
 "metadata": {
  "kernelspec": {
   "display_name": "Python 3",
   "language": "python",
   "name": "python3"
  },
  "language_info": {
   "codemirror_mode": {
    "name": "ipython",
    "version": 3
   },
   "file_extension": ".py",
   "mimetype": "text/x-python",
   "name": "python",
   "nbconvert_exporter": "python",
   "pygments_lexer": "ipython3",
   "version": "3.10.10"
  }
 },
 "nbformat": 4,
 "nbformat_minor": 2
}
