{
 "cells": [
  {
   "cell_type": "code",
   "execution_count": 3,
   "metadata": {},
   "outputs": [],
   "source": [
    "import os\n",
    "from dotenv import load_dotenv\n",
    "load_dotenv()\n",
    "import mysql.connector\n",
    "import pandas as pd\n",
    "from sqlalchemy import create_engine\n"
   ]
  },
  {
   "cell_type": "code",
   "execution_count": 5,
   "metadata": {},
   "outputs": [
    {
     "name": "stdout",
     "output_type": "stream",
     "text": [
      "Credentials loaded from .env!\n"
     ]
    }
   ],
   "source": [
    "\n",
    "# Retrieve credentials\n",
    "MYSQL_USER = os.getenv(\"MYSQL_USER\")\n",
    "MYSQL_PASSWORD = os.getenv(\"MYSQL_PASSWORD\")\n",
    "MYSQL_HOST = os.getenv(\"MYSQL_HOST\")\n",
    "MYSQL_DATABASE = os.getenv(\"MYSQL_DATABASE\")\n",
    "\n",
    "print(\"Credentials loaded from .env!\")"
   ]
  },
  {
   "cell_type": "code",
   "execution_count": 6,
   "metadata": {},
   "outputs": [],
   "source": [
    "# Create the connection URL\n",
    "connection_url = f\"mysql+pymysql://{MYSQL_USER}:{MYSQL_PASSWORD}@{MYSQL_HOST}/{MYSQL_DATABASE}\"\n"
   ]
  },
  {
   "cell_type": "code",
   "execution_count": 7,
   "metadata": {},
   "outputs": [
    {
     "name": "stdout",
     "output_type": "stream",
     "text": [
      "Data fetched successfully!\n",
      "         sbuid    sbu_sport                             athleteId  \\\n",
      "0  115748989.0  Mens Soccer  d82c8cdb-8d4d-40ad-a02e-00386c4e7510   \n",
      "1  115748989.0  Mens Soccer  d82c8cdb-8d4d-40ad-a02e-00386c4e7510   \n",
      "2  115748989.0  Mens Soccer  d82c8cdb-8d4d-40ad-a02e-00386c4e7510   \n",
      "3  115748989.0  Mens Soccer  d82c8cdb-8d4d-40ad-a02e-00386c4e7510   \n",
      "4  115748989.0  Mens Soccer  d82c8cdb-8d4d-40ad-a02e-00386c4e7510   \n",
      "\n",
      "                                 testId               modifiedUtc  \\\n",
      "0  d1dc8b4b-f563-412b-aaa8-100f295b044a  2022-01-10T17:18:51.241Z   \n",
      "1  d1dc8b4b-f563-412b-aaa8-100f295b044a  2022-01-10T17:18:51.241Z   \n",
      "2  d1dc8b4b-f563-412b-aaa8-100f295b044a  2022-01-10T17:18:51.241Z   \n",
      "3  d1dc8b4b-f563-412b-aaa8-100f295b044a  2022-01-10T17:18:51.241Z   \n",
      "4  d1dc8b4b-f563-412b-aaa8-100f295b044a  2022-01-10T17:18:51.241Z   \n",
      "\n",
      "                testDateUtc           metric        value  \n",
      "0  2022-01-10T17:10:56.344Z     leftAvgForce   418.250000  \n",
      "1  2022-01-10T17:10:56.344Z      leftImpulse  7516.495000  \n",
      "2  2022-01-10T17:10:56.344Z     leftMaxForce   423.250000  \n",
      "3  2022-01-10T17:10:56.344Z       leftTorque   199.985625  \n",
      "4  2022-01-10T17:10:56.344Z  leftCalibration     0.000000  \n"
     ]
    }
   ],
   "source": [
    "# Fetch data\n",
    "def fetch_data(query):\n",
    "    try:\n",
    "        engine = create_engine(connection_url)\n",
    "        with engine.connect() as connection:\n",
    "            data = pd.read_sql(query, connection)\n",
    "        print(\"Data fetched successfully!\")\n",
    "        return data\n",
    "    except Exception as e:\n",
    "        print(f\"Error fetching data: {e}\")\n",
    "        return None\n",
    "\n",
    "# Query the database\n",
    "query = \"SELECT * FROM sbu_athletics.vald;\"  # Replace with your table name\n",
    "data = fetch_data(query)\n",
    "\n",
    "if data is not None:\n",
    "    print(data.head())"
   ]
  },
  {
   "cell_type": "code",
   "execution_count": 8,
   "metadata": {},
   "outputs": [
    {
     "name": "stdout",
     "output_type": "stream",
     "text": [
      "Filtered Data:\n",
      "           sbuid               testDateUtc           metric         value\n",
      "708  115168305.0  2023-04-28T14:05:09.912Z     leftAvgForce    639.500000\n",
      "709  115168305.0  2023-04-28T14:05:09.912Z      leftImpulse  11546.405000\n",
      "710  115168305.0  2023-04-28T14:05:09.912Z     leftMaxForce    678.750000\n",
      "711  115168305.0  2023-04-28T14:05:09.912Z       leftTorque    363.470625\n",
      "712  115168305.0  2023-04-28T14:05:09.912Z  leftCalibration      0.000000\n"
     ]
    }
   ],
   "source": [
    "# Filter the relevant columns and rows\n",
    "filtered_data = data.loc[data['sbu_sport'] == 'Football', ['sbuid', 'testDateUtc', 'metric', 'value']]\n",
    "\n",
    "# Display the filtered data\n",
    "print(\"Filtered Data:\")\n",
    "print(filtered_data.head())\n"
   ]
  },
  {
   "cell_type": "code",
   "execution_count": 10,
   "metadata": {},
   "outputs": [],
   "source": [
    "filtered_data.to_csv('data/raw_vald_data.csv', index=False)"
   ]
  }
 ],
 "metadata": {
  "kernelspec": {
   "display_name": "Python 3",
   "language": "python",
   "name": "python3"
  },
  "language_info": {
   "codemirror_mode": {
    "name": "ipython",
    "version": 3
   },
   "file_extension": ".py",
   "mimetype": "text/x-python",
   "name": "python",
   "nbconvert_exporter": "python",
   "pygments_lexer": "ipython3",
   "version": "3.10.10"
  }
 },
 "nbformat": 4,
 "nbformat_minor": 2
}
