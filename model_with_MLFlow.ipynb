{
 "cells": [
  {
   "cell_type": "code",
   "execution_count": 2,
   "metadata": {},
   "outputs": [],
   "source": [
    "import mlflow\n",
    "import pandas as pd\n",
    "import numpy as np\n"
   ]
  },
  {
   "cell_type": "code",
   "execution_count": 3,
   "metadata": {},
   "outputs": [],
   "source": [
    "vald_data = pd.read_csv('data/vald_data_for_modelling.csv')"
   ]
  },
  {
   "cell_type": "code",
   "execution_count": 4,
   "metadata": {},
   "outputs": [
    {
     "name": "stderr",
     "output_type": "stream",
     "text": [
      "2025/01/30 10:19:08 WARNING mlflow.models.model: Model logged without a signature and input example. Please set `input_example` parameter when logging the model to auto infer the model signature.\n"
     ]
    },
    {
     "name": "stdout",
     "output_type": "stream",
     "text": [
      "RF_SMOTE logged with Accuracy: 0.9839\n"
     ]
    },
    {
     "name": "stderr",
     "output_type": "stream",
     "text": [
      "2025/01/30 10:19:12 WARNING mlflow.models.model: Model logged without a signature and input example. Please set `input_example` parameter when logging the model to auto infer the model signature.\n"
     ]
    },
    {
     "name": "stdout",
     "output_type": "stream",
     "text": [
      "RF_No_Balancing logged with Accuracy: 0.9897\n"
     ]
    },
    {
     "name": "stderr",
     "output_type": "stream",
     "text": [
      "2025/01/30 10:19:16 WARNING mlflow.models.model: Model logged without a signature and input example. Please set `input_example` parameter when logging the model to auto infer the model signature.\n"
     ]
    },
    {
     "name": "stdout",
     "output_type": "stream",
     "text": [
      "RF_SMOTEENN logged with Accuracy: 1.0000\n"
     ]
    },
    {
     "name": "stderr",
     "output_type": "stream",
     "text": [
      "2025/01/30 10:19:20 WARNING mlflow.models.model: Model logged without a signature and input example. Please set `input_example` parameter when logging the model to auto infer the model signature.\n"
     ]
    },
    {
     "name": "stdout",
     "output_type": "stream",
     "text": [
      "RF_Class_Weights logged with Accuracy: 0.9795\n"
     ]
    }
   ],
   "source": [
    "import mlflow\n",
    "import mlflow.sklearn\n",
    "from imblearn.over_sampling import SMOTE\n",
    "from imblearn.combine import SMOTEENN\n",
    "from sklearn.model_selection import train_test_split\n",
    "from sklearn.ensemble import RandomForestClassifier\n",
    "from sklearn.metrics import accuracy_score, classification_report, confusion_matrix\n",
    "import pandas as pd\n",
    "\n",
    "# Load dataset\n",
    "vald_data = pd.read_csv(\"data/vald_data_for_modelling.csv\")\n",
    "\n",
    "# Define features and target\n",
    "risk_mapping = {'Low Risk': 0, 'Medium Risk': 1, 'High Risk': 2}\n",
    "X = vald_data[['ForceSymmetry', 'MaxForceSymmetry', 'TorqueSymmetry']]\n",
    "y = vald_data['RiskCategory'].map(risk_mapping)\n",
    "\n",
    "# Set MLflow experiment\n",
    "mlflow.set_experiment(\"Athlete_Injury_Risk\")\n",
    "\n",
    "# Function to train and log model with MLflow\n",
    "def train_and_log_model(model_name, model, X_train, X_test, y_train, y_test):\n",
    "    with mlflow.start_run(run_name=model_name):\n",
    "        model.fit(X_train, y_train)\n",
    "        y_pred = model.predict(X_test)\n",
    "        accuracy = accuracy_score(y_test, y_pred)\n",
    "\n",
    "        # Log parameters, metrics, and model\n",
    "        mlflow.log_param(\"model_name\", model_name)\n",
    "        mlflow.log_param(\"n_estimators\", 100)\n",
    "        mlflow.log_param(\"random_state\", 42)\n",
    "        mlflow.log_metric(\"accuracy\", accuracy)\n",
    "        \n",
    "        # Log classification report as an artifact\n",
    "        report = classification_report(y_test, y_pred, target_names=risk_mapping.keys(), output_dict=True)\n",
    "        mlflow.log_metric(\"precision_low\", report[\"Low Risk\"][\"precision\"])\n",
    "        mlflow.log_metric(\"recall_low\", report[\"Low Risk\"][\"recall\"])\n",
    "        mlflow.log_metric(\"f1_low\", report[\"Low Risk\"][\"f1-score\"])\n",
    "        \n",
    "        mlflow.log_metric(\"precision_medium\", report[\"Medium Risk\"][\"precision\"])\n",
    "        mlflow.log_metric(\"recall_medium\", report[\"Medium Risk\"][\"recall\"])\n",
    "        mlflow.log_metric(\"f1_medium\", report[\"Medium Risk\"][\"f1-score\"])\n",
    "        \n",
    "        mlflow.log_metric(\"precision_high\", report[\"High Risk\"][\"precision\"])\n",
    "        mlflow.log_metric(\"recall_high\", report[\"High Risk\"][\"recall\"])\n",
    "        mlflow.log_metric(\"f1_high\", report[\"High Risk\"][\"f1-score\"])\n",
    "\n",
    "        mlflow.sklearn.log_model(model, model_name)\n",
    "        \n",
    "        print(f\"{model_name} logged with Accuracy: {accuracy:.4f}\")\n",
    "\n",
    "# Train/Test Split\n",
    "X_train, X_test, y_train, y_test = train_test_split(X, y, test_size=0.2, stratify=y, random_state=42)\n",
    "\n",
    "# Model 1: SMOTE\n",
    "smote = SMOTE(random_state=42)\n",
    "X_resampled, y_resampled = smote.fit_resample(X, y)\n",
    "X_train_s, X_test_s, y_train_s, y_test_s = train_test_split(X_resampled, y_resampled, test_size=0.2, stratify=y_resampled, random_state=42)\n",
    "rf_model_1 = RandomForestClassifier(n_estimators=100, random_state=42)\n",
    "train_and_log_model(\"RF_SMOTE\", rf_model_1, X_train_s, X_test_s, y_train_s, y_test_s)\n",
    "\n",
    "# Model 2: No Balancing\n",
    "rf_model_2 = RandomForestClassifier(n_estimators=100, random_state=42)\n",
    "train_and_log_model(\"RF_No_Balancing\", rf_model_2, X_train, X_test, y_train, y_test)\n",
    "\n",
    "# Model 3: SMOTEENN\n",
    "smoteenn = SMOTEENN(random_state=42)\n",
    "X_resampled_se, y_resampled_se = smoteenn.fit_resample(X, y)\n",
    "X_train_se, X_test_se, y_train_se, y_test_se = train_test_split(X_resampled_se, y_resampled_se, test_size=0.2, stratify=y_resampled_se, random_state=42)\n",
    "rf_model_3 = RandomForestClassifier(n_estimators=100, random_state=42)\n",
    "train_and_log_model(\"RF_SMOTEENN\", rf_model_3, X_train_se, X_test_se, y_train_se, y_test_se)\n",
    "\n",
    "# Model 4: Class Weights\n",
    "rf_model_4 = RandomForestClassifier(n_estimators=100, random_state=42, class_weight={0: 1, 1: 2, 2: 3})\n",
    "train_and_log_model(\"RF_Class_Weights\", rf_model_4, X_train, X_test, y_train, y_test)\n"
   ]
  },
  {
   "cell_type": "code",
   "execution_count": 5,
   "metadata": {},
   "outputs": [
    {
     "data": {
      "text/plain": [
       "True"
      ]
     },
     "execution_count": 5,
     "metadata": {},
     "output_type": "execute_result"
    }
   ],
   "source": [
    "import os\n",
    "\n",
    "from dotenv import load_dotenv\n",
    "load_dotenv()"
   ]
  },
  {
   "cell_type": "code",
   "execution_count": 6,
   "metadata": {},
   "outputs": [],
   "source": [
    "model_uri=os.getenv(\"MODEL_URI\")\n",
    "# Load the trained model\n",
    "best_model = mlflow.pyfunc.load_model(model_uri)\n",
    "unseen_data=pd.read_csv(\"data/unseen_data.csv\")\n"
   ]
  },
  {
   "cell_type": "code",
   "execution_count": 7,
   "metadata": {},
   "outputs": [],
   "source": [
    "X_unseen = unseen_data[['ForceSymmetry', 'MaxForceSymmetry', 'TorqueSymmetry']]\n",
    "# Make predictions\n",
    "predictions = best_model.predict(X_unseen)\n",
    "# Mapping predictions back to Risk Categories\n",
    "risk_mapping_inverse = {0: 'Low Risk', 1: 'Medium Risk', 2: 'High Risk'}\n",
    "\n",
    "unseen_data['Predicted Risk']=pd.Series(predictions).map(risk_mapping_inverse)"
   ]
  }
 ],
 "metadata": {
  "kernelspec": {
   "display_name": "Python 3",
   "language": "python",
   "name": "python3"
  },
  "language_info": {
   "codemirror_mode": {
    "name": "ipython",
    "version": 3
   },
   "file_extension": ".py",
   "mimetype": "text/x-python",
   "name": "python",
   "nbconvert_exporter": "python",
   "pygments_lexer": "ipython3",
   "version": "3.10.10"
  }
 },
 "nbformat": 4,
 "nbformat_minor": 2
}
